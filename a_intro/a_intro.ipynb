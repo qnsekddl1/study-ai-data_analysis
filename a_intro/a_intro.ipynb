{
 "cells": [
  {
   "cell_type": "markdown",
   "id": "b256f139-db54-4a25-b479-f7d92c9501d3",
   "metadata": {},
   "source": [
    "### Data Analysis\n",
    "\n",
    "- 원시(원본 그대로) 데이터를 분석하여 인사이트(가시성 증가 및 깊은 이해)로 변환하는 작업이다.\n",
    "- 문제를 해결하기 위해 데이터를 사용해서 흐름 및 방향을 찾는 기술이다.\n",
    "- 데이터 분석을 통해 비지니스 프로세스를 구성하고, 의사 결정을 개선하며, 비지니스 성장을 증진 할 수 있다.\n",
    "\n",
    "<img src=\"./images/architecture.png\" width=\"600px\" style=\"margin-left: 10px;\">\n",
    "<sub>ETL은 Extract(추출) Tranceform(변환) Load(적재)를 의미한다. 여기저기 흩어진 데이터를 하나로 모으기 위한 결합 과정이다.</sub>"
   ]
  },
  {
   "cell_type": "markdown",
   "id": "366327a8-7979-4032-b3ea-da0e951c9e39",
   "metadata": {},
   "source": [
    "<수업 짜투리 메모>\n",
    "ETL(Extract/추출 Tranceform/변환 Load/로드) & 스키마 -> 구조가 있음(Json은 구조가 없음 형식일 뿐)\n",
    "스키마가 없는 SQL -> NoSQL저장소 (속도에 치중을 둠, Json 형식)\n",
    "Object 저장소 -> 캐시로 저장됨 ,문자열로 변환하며 (Serializers을 사용함, ex>Redis)"
   ]
  },
  {
   "cell_type": "markdown",
   "id": "cd1cfc87-309e-41c4-9560-f4221cfdf5d0",
   "metadata": {},
   "source": [
    "### 기초 통계 (Basic statistics)\n",
    "📌 통계는 아직 발생하지 않은 일을 예측하기 위해 사용한다.\n",
    "- 통계학을 공부하는 데 있어서 필요한 기본 개념이고,\n",
    "  수량적인 비교를 기초로 많은 사실을 관찰 하고 처리하는 방법을 연구하는 학문이다.\n",
    "- 불균형 데이터를 대상으로 규칙성과 불규칙성을 발견한 뒤 실생활에 적용 할 수 있다.\n",
    "<img src=\"./images/staticstics01.png\"  style=\"margin-top: 20px\">"
   ]
  },
  {
   "cell_type": "markdown",
   "id": "db543cab-8703-4443-8615-666423075687",
   "metadata": {},
   "source": [
    "#### 변량 (Variable)\n",
    "- 자료의 수치를 변량이라고 하며, 이는 데이터의 값을 의미한다. [변수->변량]"
   ]
  },
  {
   "cell_type": "code",
   "execution_count": 13,
   "id": "0bac46ef-671f-4cc3-9da9-41ff9d5413fa",
   "metadata": {
    "scrolled": true
   },
   "outputs": [
    {
     "data": {
      "text/html": [
       "<div>\n",
       "<style scoped>\n",
       "    .dataframe tbody tr th:only-of-type {\n",
       "        vertical-align: middle;\n",
       "    }\n",
       "\n",
       "    .dataframe tbody tr th {\n",
       "        vertical-align: top;\n",
       "    }\n",
       "\n",
       "    .dataframe thead th {\n",
       "        text-align: right;\n",
       "    }\n",
       "</style>\n",
       "<table border=\"1\" class=\"dataframe\">\n",
       "  <thead>\n",
       "    <tr style=\"text-align: right;\">\n",
       "      <th></th>\n",
       "      <th>서울</th>\n",
       "      <th>경기</th>\n",
       "      <th>인천</th>\n",
       "      <th>광주</th>\n",
       "      <th>대구</th>\n",
       "      <th>부산</th>\n",
       "      <th>전주</th>\n",
       "      <th>강릉</th>\n",
       "      <th>울산</th>\n",
       "      <th>수원</th>\n",
       "    </tr>\n",
       "  </thead>\n",
       "  <tbody>\n",
       "    <tr>\n",
       "      <th>0</th>\n",
       "      <td>185</td>\n",
       "      <td>167</td>\n",
       "      <td>171</td>\n",
       "      <td>176</td>\n",
       "      <td>160</td>\n",
       "      <td>156</td>\n",
       "      <td>162</td>\n",
       "      <td>171</td>\n",
       "      <td>171</td>\n",
       "      <td>175</td>\n",
       "    </tr>\n",
       "    <tr>\n",
       "      <th>1</th>\n",
       "      <td>151</td>\n",
       "      <td>185</td>\n",
       "      <td>154</td>\n",
       "      <td>158</td>\n",
       "      <td>151</td>\n",
       "      <td>183</td>\n",
       "      <td>185</td>\n",
       "      <td>182</td>\n",
       "      <td>163</td>\n",
       "      <td>159</td>\n",
       "    </tr>\n",
       "    <tr>\n",
       "      <th>2</th>\n",
       "      <td>169</td>\n",
       "      <td>188</td>\n",
       "      <td>163</td>\n",
       "      <td>167</td>\n",
       "      <td>153</td>\n",
       "      <td>156</td>\n",
       "      <td>169</td>\n",
       "      <td>173</td>\n",
       "      <td>185</td>\n",
       "      <td>151</td>\n",
       "    </tr>\n",
       "    <tr>\n",
       "      <th>3</th>\n",
       "      <td>176</td>\n",
       "      <td>185</td>\n",
       "      <td>181</td>\n",
       "      <td>166</td>\n",
       "      <td>154</td>\n",
       "      <td>155</td>\n",
       "      <td>163</td>\n",
       "      <td>183</td>\n",
       "      <td>172</td>\n",
       "      <td>152</td>\n",
       "    </tr>\n",
       "    <tr>\n",
       "      <th>4</th>\n",
       "      <td>166</td>\n",
       "      <td>154</td>\n",
       "      <td>168</td>\n",
       "      <td>158</td>\n",
       "      <td>188</td>\n",
       "      <td>151</td>\n",
       "      <td>161</td>\n",
       "      <td>167</td>\n",
       "      <td>184</td>\n",
       "      <td>153</td>\n",
       "    </tr>\n",
       "    <tr>\n",
       "      <th>5</th>\n",
       "      <td>171</td>\n",
       "      <td>171</td>\n",
       "      <td>157</td>\n",
       "      <td>185</td>\n",
       "      <td>157</td>\n",
       "      <td>163</td>\n",
       "      <td>189</td>\n",
       "      <td>170</td>\n",
       "      <td>183</td>\n",
       "      <td>179</td>\n",
       "    </tr>\n",
       "    <tr>\n",
       "      <th>6</th>\n",
       "      <td>188</td>\n",
       "      <td>187</td>\n",
       "      <td>176</td>\n",
       "      <td>183</td>\n",
       "      <td>172</td>\n",
       "      <td>162</td>\n",
       "      <td>182</td>\n",
       "      <td>187</td>\n",
       "      <td>173</td>\n",
       "      <td>168</td>\n",
       "    </tr>\n",
       "    <tr>\n",
       "      <th>7</th>\n",
       "      <td>189</td>\n",
       "      <td>161</td>\n",
       "      <td>156</td>\n",
       "      <td>167</td>\n",
       "      <td>180</td>\n",
       "      <td>165</td>\n",
       "      <td>181</td>\n",
       "      <td>155</td>\n",
       "      <td>171</td>\n",
       "      <td>164</td>\n",
       "    </tr>\n",
       "    <tr>\n",
       "      <th>8</th>\n",
       "      <td>166</td>\n",
       "      <td>166</td>\n",
       "      <td>159</td>\n",
       "      <td>157</td>\n",
       "      <td>166</td>\n",
       "      <td>153</td>\n",
       "      <td>171</td>\n",
       "      <td>189</td>\n",
       "      <td>167</td>\n",
       "      <td>160</td>\n",
       "    </tr>\n",
       "    <tr>\n",
       "      <th>9</th>\n",
       "      <td>172</td>\n",
       "      <td>184</td>\n",
       "      <td>189</td>\n",
       "      <td>176</td>\n",
       "      <td>170</td>\n",
       "      <td>166</td>\n",
       "      <td>182</td>\n",
       "      <td>179</td>\n",
       "      <td>186</td>\n",
       "      <td>166</td>\n",
       "    </tr>\n",
       "  </tbody>\n",
       "</table>\n",
       "</div>"
      ],
      "text/plain": [
       "    서울   경기   인천   광주   대구   부산   전주   강릉   울산   수원\n",
       "0  185  167  171  176  160  156  162  171  171  175\n",
       "1  151  185  154  158  151  183  185  182  163  159\n",
       "2  169  188  163  167  153  156  169  173  185  151\n",
       "3  176  185  181  166  154  155  163  183  172  152\n",
       "4  166  154  168  158  188  151  161  167  184  153\n",
       "5  171  171  157  185  157  163  189  170  183  179\n",
       "6  188  187  176  183  172  162  182  187  173  168\n",
       "7  189  161  156  167  180  165  181  155  171  164\n",
       "8  166  166  159  157  166  153  171  189  167  160\n",
       "9  172  184  189  176  170  166  182  179  186  166"
      ]
     },
     "metadata": {},
     "output_type": "display_data"
    }
   ],
   "source": [
    "# 지역 별 총 100명의 키 \n",
    "import pandas as pd\n",
    "import numpy as np \n",
    "\n",
    "df = pd.DataFrame(np.random.randint(151, 190, size=(10,10)), \\\n",
    "                               columns=\"서울,경기,인천,광주,대구,부산,전주,강릉,울산,수원\".split(\",\"))\n",
    "display(df)"
   ]
  },
  {
   "cell_type": "code",
   "execution_count": 20,
   "id": "97c4921a-3c51-4b5a-8e7c-df9e43201794",
   "metadata": {},
   "outputs": [
    {
     "data": {
      "text/html": [
       "<div>\n",
       "<style scoped>\n",
       "    .dataframe tbody tr th:only-of-type {\n",
       "        vertical-align: middle;\n",
       "    }\n",
       "\n",
       "    .dataframe tbody tr th {\n",
       "        vertical-align: top;\n",
       "    }\n",
       "\n",
       "    .dataframe thead th {\n",
       "        text-align: right;\n",
       "    }\n",
       "</style>\n",
       "<table border=\"1\" class=\"dataframe\">\n",
       "  <thead>\n",
       "    <tr style=\"text-align: right;\">\n",
       "      <th></th>\n",
       "      <th>서울</th>\n",
       "      <th>경기</th>\n",
       "      <th>인천</th>\n",
       "      <th>광주</th>\n",
       "      <th>대구</th>\n",
       "      <th>부산</th>\n",
       "      <th>전주</th>\n",
       "      <th>강릉</th>\n",
       "      <th>울산</th>\n",
       "      <th>수원</th>\n",
       "    </tr>\n",
       "  </thead>\n",
       "  <tbody>\n",
       "    <tr>\n",
       "      <th>0</th>\n",
       "      <td>174</td>\n",
       "      <td>168</td>\n",
       "      <td>180</td>\n",
       "      <td>166</td>\n",
       "      <td>172</td>\n",
       "      <td>157</td>\n",
       "      <td>186</td>\n",
       "      <td>156</td>\n",
       "      <td>151</td>\n",
       "      <td>151</td>\n",
       "    </tr>\n",
       "    <tr>\n",
       "      <th>1</th>\n",
       "      <td>156</td>\n",
       "      <td>170</td>\n",
       "      <td>181</td>\n",
       "      <td>177</td>\n",
       "      <td>186</td>\n",
       "      <td>168</td>\n",
       "      <td>181</td>\n",
       "      <td>173</td>\n",
       "      <td>182</td>\n",
       "      <td>188</td>\n",
       "    </tr>\n",
       "    <tr>\n",
       "      <th>2</th>\n",
       "      <td>187</td>\n",
       "      <td>156</td>\n",
       "      <td>166</td>\n",
       "      <td>180</td>\n",
       "      <td>155</td>\n",
       "      <td>167</td>\n",
       "      <td>156</td>\n",
       "      <td>172</td>\n",
       "      <td>169</td>\n",
       "      <td>187</td>\n",
       "    </tr>\n",
       "    <tr>\n",
       "      <th>3</th>\n",
       "      <td>173</td>\n",
       "      <td>183</td>\n",
       "      <td>158</td>\n",
       "      <td>163</td>\n",
       "      <td>167</td>\n",
       "      <td>186</td>\n",
       "      <td>173</td>\n",
       "      <td>154</td>\n",
       "      <td>178</td>\n",
       "      <td>152</td>\n",
       "    </tr>\n",
       "    <tr>\n",
       "      <th>4</th>\n",
       "      <td>187</td>\n",
       "      <td>153</td>\n",
       "      <td>164</td>\n",
       "      <td>176</td>\n",
       "      <td>163</td>\n",
       "      <td>182</td>\n",
       "      <td>182</td>\n",
       "      <td>166</td>\n",
       "      <td>166</td>\n",
       "      <td>166</td>\n",
       "    </tr>\n",
       "    <tr>\n",
       "      <th>5</th>\n",
       "      <td>174</td>\n",
       "      <td>175</td>\n",
       "      <td>187</td>\n",
       "      <td>155</td>\n",
       "      <td>157</td>\n",
       "      <td>185</td>\n",
       "      <td>179</td>\n",
       "      <td>155</td>\n",
       "      <td>175</td>\n",
       "      <td>172</td>\n",
       "    </tr>\n",
       "    <tr>\n",
       "      <th>6</th>\n",
       "      <td>184</td>\n",
       "      <td>161</td>\n",
       "      <td>161</td>\n",
       "      <td>189</td>\n",
       "      <td>182</td>\n",
       "      <td>163</td>\n",
       "      <td>153</td>\n",
       "      <td>187</td>\n",
       "      <td>170</td>\n",
       "      <td>185</td>\n",
       "    </tr>\n",
       "    <tr>\n",
       "      <th>7</th>\n",
       "      <td>173</td>\n",
       "      <td>186</td>\n",
       "      <td>175</td>\n",
       "      <td>164</td>\n",
       "      <td>183</td>\n",
       "      <td>183</td>\n",
       "      <td>175</td>\n",
       "      <td>188</td>\n",
       "      <td>172</td>\n",
       "      <td>155</td>\n",
       "    </tr>\n",
       "    <tr>\n",
       "      <th>8</th>\n",
       "      <td>182</td>\n",
       "      <td>176</td>\n",
       "      <td>151</td>\n",
       "      <td>175</td>\n",
       "      <td>152</td>\n",
       "      <td>155</td>\n",
       "      <td>162</td>\n",
       "      <td>169</td>\n",
       "      <td>162</td>\n",
       "      <td>180</td>\n",
       "    </tr>\n",
       "    <tr>\n",
       "      <th>9</th>\n",
       "      <td>165</td>\n",
       "      <td>159</td>\n",
       "      <td>183</td>\n",
       "      <td>157</td>\n",
       "      <td>176</td>\n",
       "      <td>188</td>\n",
       "      <td>188</td>\n",
       "      <td>185</td>\n",
       "      <td>155</td>\n",
       "      <td>173</td>\n",
       "    </tr>\n",
       "  </tbody>\n",
       "</table>\n",
       "</div>"
      ],
      "text/plain": [
       "    서울   경기   인천   광주   대구   부산   전주   강릉   울산   수원\n",
       "0  174  168  180  166  172  157  186  156  151  151\n",
       "1  156  170  181  177  186  168  181  173  182  188\n",
       "2  187  156  166  180  155  167  156  172  169  187\n",
       "3  173  183  158  163  167  186  173  154  178  152\n",
       "4  187  153  164  176  163  182  182  166  166  166\n",
       "5  174  175  187  155  157  185  179  155  175  172\n",
       "6  184  161  161  189  182  163  153  187  170  185\n",
       "7  173  186  175  164  183  183  175  188  172  155\n",
       "8  182  176  151  175  152  155  162  169  162  180\n",
       "9  165  159  183  157  176  188  188  185  155  173"
      ]
     },
     "metadata": {},
     "output_type": "display_data"
    }
   ],
   "source": [
    "# 지역 별 총 100명의 키 \n",
    "import pandas as pd\n",
    "import random\n",
    "\n",
    "df = pd.DataFrame([[random.randrange(151, 190) for _ in range(10)] for _ in range(10)], \\\n",
    "                  columns=\"서울,경기,인천,광주,대구,부산,전주,강릉,울산,수원\".split(\",\"))\n",
    "display(df)"
   ]
  },
  {
   "cell_type": "markdown",
   "id": "f9687442-7bc9-4db5-88b3-fa518e6b3863",
   "metadata": {},
   "source": [
    "#### 계급 (Class)\n",
    "- 변량을 일정 간격으로 나눈 구간을 의미한다.\n",
    "- 변량의 최소 값과 최대값을 잘 고려해서 계급을 정해야한다.\n",
    "- 예를 들어, 150 ~ 160 계급이 있을 경우 160 까지 속한다. 즉 151~160 까지 이다."
   ]
  },
  {
   "cell_type": "code",
   "execution_count": null,
   "id": "f08b9822-5943-4a57-b741-2b0039b78de7",
   "metadata": {},
   "outputs": [],
   "source": [
    "df_seoul = df['서울']\n",
    "df_class = pd.cut(df_seoul, bins=[150, 160, 170, 180, 190])\n",
    "df_seoul_class = pd.DataFrame({'서울': df_seoul, '계급': df_class})\n",
    "df_seoul_class"
   ]
  },
  {
   "cell_type": "markdown",
   "id": "0843b2e9-d3a2-49ae-92a6-be76b8f70f5f",
   "metadata": {},
   "source": [
    "#### 도수 (Frequency)\n",
    "- 각 계급에 속하는 변량의 개수를 의미한다."
   ]
  },
  {
   "cell_type": "code",
   "execution_count": 28,
   "id": "28ce2250-40fb-4e5d-af43-8bf7b884de49",
   "metadata": {},
   "outputs": [
    {
     "data": {
      "text/html": [
       "<div>\n",
       "<style scoped>\n",
       "    .dataframe tbody tr th:only-of-type {\n",
       "        vertical-align: middle;\n",
       "    }\n",
       "\n",
       "    .dataframe tbody tr th {\n",
       "        vertical-align: top;\n",
       "    }\n",
       "\n",
       "    .dataframe thead th {\n",
       "        text-align: right;\n",
       "    }\n",
       "</style>\n",
       "<table border=\"1\" class=\"dataframe\">\n",
       "  <thead>\n",
       "    <tr style=\"text-align: right;\">\n",
       "      <th></th>\n",
       "      <th>서울</th>\n",
       "    </tr>\n",
       "    <tr>\n",
       "      <th>계급</th>\n",
       "      <th></th>\n",
       "    </tr>\n",
       "  </thead>\n",
       "  <tbody>\n",
       "    <tr>\n",
       "      <th>(150, 160]</th>\n",
       "      <td>1</td>\n",
       "    </tr>\n",
       "    <tr>\n",
       "      <th>(160, 170]</th>\n",
       "      <td>1</td>\n",
       "    </tr>\n",
       "    <tr>\n",
       "      <th>(170, 180]</th>\n",
       "      <td>4</td>\n",
       "    </tr>\n",
       "    <tr>\n",
       "      <th>(180, 190]</th>\n",
       "      <td>4</td>\n",
       "    </tr>\n",
       "  </tbody>\n",
       "</table>\n",
       "</div>"
      ],
      "text/plain": [
       "            서울\n",
       "계급            \n",
       "(150, 160]   1\n",
       "(160, 170]   1\n",
       "(170, 180]   4\n",
       "(180, 190]   4"
      ]
     },
     "execution_count": 28,
     "metadata": {},
     "output_type": "execute_result"
    }
   ],
   "source": [
    "df_seoul_class.groupby('계급', observed=True).count()"
   ]
  },
  {
   "cell_type": "markdown",
   "id": "7d91eb08-7b2e-432e-bfa2-b5b0531b9787",
   "metadata": {},
   "source": [
    "#### 상대 도수 (Relative frequency)\n",
    "- 각 계급에 속하는 변량의 비율을 의미한다."
   ]
  },
  {
   "cell_type": "code",
   "execution_count": 34,
   "id": "c027207d-fb41-4d56-8a7e-5248cee581a6",
   "metadata": {},
   "outputs": [
    {
     "data": {
      "text/html": [
       "<div>\n",
       "<style scoped>\n",
       "    .dataframe tbody tr th:only-of-type {\n",
       "        vertical-align: middle;\n",
       "    }\n",
       "\n",
       "    .dataframe tbody tr th {\n",
       "        vertical-align: top;\n",
       "    }\n",
       "\n",
       "    .dataframe thead th {\n",
       "        text-align: right;\n",
       "    }\n",
       "</style>\n",
       "<table border=\"1\" class=\"dataframe\">\n",
       "  <thead>\n",
       "    <tr style=\"text-align: right;\">\n",
       "      <th></th>\n",
       "      <th>서울</th>\n",
       "    </tr>\n",
       "    <tr>\n",
       "      <th>계급</th>\n",
       "      <th></th>\n",
       "    </tr>\n",
       "  </thead>\n",
       "  <tbody>\n",
       "    <tr>\n",
       "      <th>(150, 160]</th>\n",
       "      <td>0.01</td>\n",
       "    </tr>\n",
       "    <tr>\n",
       "      <th>(160, 170]</th>\n",
       "      <td>0.01</td>\n",
       "    </tr>\n",
       "    <tr>\n",
       "      <th>(170, 180]</th>\n",
       "      <td>0.04</td>\n",
       "    </tr>\n",
       "    <tr>\n",
       "      <th>(180, 190]</th>\n",
       "      <td>0.04</td>\n",
       "    </tr>\n",
       "  </tbody>\n",
       "</table>\n",
       "</div>"
      ],
      "text/plain": [
       "              서울\n",
       "계급              \n",
       "(150, 160]  0.01\n",
       "(160, 170]  0.01\n",
       "(170, 180]  0.04\n",
       "(180, 190]  0.04"
      ]
     },
     "execution_count": 34,
     "metadata": {},
     "output_type": "execute_result"
    }
   ],
   "source": [
    "df_seoul_class.groupby('계급', observed=False).count().apply(lambda x : x / 100)"
   ]
  },
  {
   "cell_type": "markdown",
   "id": "2a484c7c-bd1c-4e8b-b06b-94e3c604c2e5",
   "metadata": {},
   "source": [
    "#### 도수 분포표(Frequency table)\n",
    "- 주어진 자료를 계급별로 나눈 뒤 각 계급에 속하는 도수 및 상대도수를 조사한 표이다.\n",
    "- 구간별 분포를 한 번에 알아보기 좋지만 계급별 각 변량의 정확한 값이 생략되어 있다."
   ]
  },
  {
   "cell_type": "code",
   "execution_count": 38,
   "id": "c9802d9d-4ac5-4f22-8d17-d79da767e8c1",
   "metadata": {},
   "outputs": [
    {
     "data": {
      "text/html": [
       "<div>\n",
       "<style scoped>\n",
       "    .dataframe tbody tr th:only-of-type {\n",
       "        vertical-align: middle;\n",
       "    }\n",
       "\n",
       "    .dataframe tbody tr th {\n",
       "        vertical-align: top;\n",
       "    }\n",
       "\n",
       "    .dataframe thead th {\n",
       "        text-align: right;\n",
       "    }\n",
       "</style>\n",
       "<table border=\"1\" class=\"dataframe\">\n",
       "  <thead>\n",
       "    <tr style=\"text-align: right;\">\n",
       "      <th></th>\n",
       "      <th>도수</th>\n",
       "      <th>상대도수</th>\n",
       "    </tr>\n",
       "    <tr>\n",
       "      <th>계급</th>\n",
       "      <th></th>\n",
       "      <th></th>\n",
       "    </tr>\n",
       "  </thead>\n",
       "  <tbody>\n",
       "    <tr>\n",
       "      <th>(150, 160]</th>\n",
       "      <td>1</td>\n",
       "      <td>0.01</td>\n",
       "    </tr>\n",
       "    <tr>\n",
       "      <th>(160, 170]</th>\n",
       "      <td>1</td>\n",
       "      <td>0.01</td>\n",
       "    </tr>\n",
       "    <tr>\n",
       "      <th>(170, 180]</th>\n",
       "      <td>4</td>\n",
       "      <td>0.04</td>\n",
       "    </tr>\n",
       "    <tr>\n",
       "      <th>(180, 190]</th>\n",
       "      <td>4</td>\n",
       "      <td>0.04</td>\n",
       "    </tr>\n",
       "  </tbody>\n",
       "</table>\n",
       "</div>"
      ],
      "text/plain": [
       "            도수  상대도수\n",
       "계급                  \n",
       "(150, 160]   1  0.01\n",
       "(160, 170]   1  0.01\n",
       "(170, 180]   4  0.04\n",
       "(180, 190]   4  0.04"
      ]
     },
     "metadata": {},
     "output_type": "display_data"
    }
   ],
   "source": [
    "freq_df = pd.DataFrame({\"도수\":df_seoul_class.groupby('계급', observed=False).count()[\"서울\"],\\\n",
    "             \"상대도수\":df_seoul_class.groupby('계급', observed=False).count().apply(lambda x : x / 100)[\"서울\"]})\n",
    "display(freq_df)"
   ]
  },
  {
   "cell_type": "markdown",
   "id": "f3c005d3-1fa5-4391-8cc6-a87925783958",
   "metadata": {},
   "source": [
    "--> 위의 표를 보면 굵은게 인덱스(index) 이다.(row_id)"
   ]
  },
  {
   "cell_type": "code",
   "execution_count": 42,
   "id": "d83b6a1a-f488-4ee3-ba83-4160d600e405",
   "metadata": {},
   "outputs": [
    {
     "data": {
      "text/html": [
       "<div>\n",
       "<style scoped>\n",
       "    .dataframe tbody tr th:only-of-type {\n",
       "        vertical-align: middle;\n",
       "    }\n",
       "\n",
       "    .dataframe tbody tr th {\n",
       "        vertical-align: top;\n",
       "    }\n",
       "\n",
       "    .dataframe thead th {\n",
       "        text-align: right;\n",
       "    }\n",
       "</style>\n",
       "<table border=\"1\" class=\"dataframe\">\n",
       "  <thead>\n",
       "    <tr style=\"text-align: right;\">\n",
       "      <th></th>\n",
       "      <th>계급</th>\n",
       "      <th>도수</th>\n",
       "      <th>상대도수</th>\n",
       "    </tr>\n",
       "  </thead>\n",
       "  <tbody>\n",
       "    <tr>\n",
       "      <th>0</th>\n",
       "      <td>(150, 160]</td>\n",
       "      <td>1</td>\n",
       "      <td>0.01</td>\n",
       "    </tr>\n",
       "    <tr>\n",
       "      <th>1</th>\n",
       "      <td>(160, 170]</td>\n",
       "      <td>1</td>\n",
       "      <td>0.01</td>\n",
       "    </tr>\n",
       "    <tr>\n",
       "      <th>2</th>\n",
       "      <td>(170, 180]</td>\n",
       "      <td>4</td>\n",
       "      <td>0.04</td>\n",
       "    </tr>\n",
       "    <tr>\n",
       "      <th>3</th>\n",
       "      <td>(180, 190]</td>\n",
       "      <td>4</td>\n",
       "      <td>0.04</td>\n",
       "    </tr>\n",
       "  </tbody>\n",
       "</table>\n",
       "</div>"
      ],
      "text/plain": [
       "           계급  도수  상대도수\n",
       "0  (150, 160]   1  0.01\n",
       "1  (160, 170]   1  0.01\n",
       "2  (170, 180]   4  0.04\n",
       "3  (180, 190]   4  0.04"
      ]
     },
     "execution_count": 42,
     "metadata": {},
     "output_type": "execute_result"
    }
   ],
   "source": [
    "freq_df.reset_index(drop=False)"
   ]
  },
  {
   "cell_type": "markdown",
   "id": "36d4d8a6-8060-4621-a6c0-ce26c191c941",
   "metadata": {},
   "source": [
    "--> 위의 표는 도수분포표(Frequency Table) 이 아님 그냥 표일 뿐이다."
   ]
  },
  {
   "cell_type": "markdown",
   "id": "d223fec8-7374-40e0-b6ab-79b9d123845c",
   "metadata": {},
   "source": [
    "### 히스토그램 (Histogram)\n",
    "- 도수분포표를 시각화한 그래프이다. "
   ]
  },
  {
   "cell_type": "code",
   "execution_count": 50,
   "id": "40f80d55-0472-4ea8-9c4e-e3baa57a37cb",
   "metadata": {},
   "outputs": [
    {
     "data": {
      "text/plain": [
       "<Axes: >"
      ]
     },
     "execution_count": 50,
     "metadata": {},
     "output_type": "execute_result"
    },
    {
     "data": {
      "image/png": "[encoded data removed]",
      "text/plain": [
       "<Figure size 640x480 with 1 Axes>"
      ]
     },
     "metadata": {},
     "output_type": "display_data"
    }
   ],
   "source": [
    "import matplotlib.pyplot as plt\n",
    "import numpy as np\n",
    "\n",
    "df_seoul_class[\"서울\"].hist(bins=4)"
   ]
  },
  {
   "cell_type": "markdown",
   "id": "c35da42c-6429-4ac8-975e-153e17bd2764",
   "metadata": {},
   "source": [
    "#### 산술 평균 (Mean)\n",
    "- 변량의 합을 변량의 수로 나눈 값을 의미한다.\n",
    "\n",
    "<img src=\"./images/mean.png\" style=\"margin-left: 20px\">"
   ]
  },
  {
   "cell_type": "code",
   "execution_count": 51,
   "id": "7590e399-3ce7-495c-923a-e14376fdd35e",
   "metadata": {},
   "outputs": [
    {
     "data": {
      "text/html": [
       "<div>\n",
       "<style scoped>\n",
       "    .dataframe tbody tr th:only-of-type {\n",
       "        vertical-align: middle;\n",
       "    }\n",
       "\n",
       "    .dataframe tbody tr th {\n",
       "        vertical-align: top;\n",
       "    }\n",
       "\n",
       "    .dataframe thead th {\n",
       "        text-align: right;\n",
       "    }\n",
       "</style>\n",
       "<table border=\"1\" class=\"dataframe\">\n",
       "  <thead>\n",
       "    <tr style=\"text-align: right;\">\n",
       "      <th></th>\n",
       "      <th>평균 키</th>\n",
       "    </tr>\n",
       "  </thead>\n",
       "  <tbody>\n",
       "    <tr>\n",
       "      <th>서울</th>\n",
       "      <td>175.5</td>\n",
       "    </tr>\n",
       "    <tr>\n",
       "      <th>경기</th>\n",
       "      <td>168.7</td>\n",
       "    </tr>\n",
       "    <tr>\n",
       "      <th>인천</th>\n",
       "      <td>170.6</td>\n",
       "    </tr>\n",
       "    <tr>\n",
       "      <th>광주</th>\n",
       "      <td>170.2</td>\n",
       "    </tr>\n",
       "    <tr>\n",
       "      <th>대구</th>\n",
       "      <td>169.3</td>\n",
       "    </tr>\n",
       "    <tr>\n",
       "      <th>부산</th>\n",
       "      <td>173.4</td>\n",
       "    </tr>\n",
       "    <tr>\n",
       "      <th>전주</th>\n",
       "      <td>173.5</td>\n",
       "    </tr>\n",
       "    <tr>\n",
       "      <th>강릉</th>\n",
       "      <td>170.5</td>\n",
       "    </tr>\n",
       "    <tr>\n",
       "      <th>울산</th>\n",
       "      <td>168.0</td>\n",
       "    </tr>\n",
       "    <tr>\n",
       "      <th>수원</th>\n",
       "      <td>170.9</td>\n",
       "    </tr>\n",
       "  </tbody>\n",
       "</table>\n",
       "</div>"
      ],
      "text/plain": [
       "     평균 키\n",
       "서울  175.5\n",
       "경기  168.7\n",
       "인천  170.6\n",
       "광주  170.2\n",
       "대구  169.3\n",
       "부산  173.4\n",
       "전주  173.5\n",
       "강릉  170.5\n",
       "울산  168.0\n",
       "수원  170.9"
      ]
     },
     "execution_count": 51,
     "metadata": {},
     "output_type": "execute_result"
    }
   ],
   "source": [
    "df.mean(axis=0).to_frame(name='평균 키')"
   ]
  },
  {
   "cell_type": "markdown",
   "id": "96b2e666-e1a2-4de7-a0af-9fd12814168f",
   "metadata": {},
   "source": [
    "#### 편차 (Deviation)\n",
    "- 변량에서 평균을 뺀 값이다.\n",
    "- 각 변량의 편차를 구한 뒤 모두 합하면 0이 되기 때문에 편차의 평균은 구할 수 없다."
   ]
  },
  {
   "cell_type": "code",
   "execution_count": 69,
   "id": "7afce354-103c-4122-b677-bd3d571e9f67",
   "metadata": {},
   "outputs": [
    {
     "data": {
      "text/html": [
       "<div>\n",
       "<style scoped>\n",
       "    .dataframe tbody tr th:only-of-type {\n",
       "        vertical-align: middle;\n",
       "    }\n",
       "\n",
       "    .dataframe tbody tr th {\n",
       "        vertical-align: top;\n",
       "    }\n",
       "\n",
       "    .dataframe thead th {\n",
       "        text-align: right;\n",
       "    }\n",
       "</style>\n",
       "<table border=\"1\" class=\"dataframe\">\n",
       "  <thead>\n",
       "    <tr style=\"text-align: right;\">\n",
       "      <th></th>\n",
       "      <th>경기</th>\n",
       "      <th>편차</th>\n",
       "    </tr>\n",
       "  </thead>\n",
       "  <tbody>\n",
       "    <tr>\n",
       "      <th>0</th>\n",
       "      <td>168</td>\n",
       "      <td>-0.7</td>\n",
       "    </tr>\n",
       "    <tr>\n",
       "      <th>1</th>\n",
       "      <td>170</td>\n",
       "      <td>1.3</td>\n",
       "    </tr>\n",
       "    <tr>\n",
       "      <th>2</th>\n",
       "      <td>156</td>\n",
       "      <td>-12.7</td>\n",
       "    </tr>\n",
       "    <tr>\n",
       "      <th>3</th>\n",
       "      <td>183</td>\n",
       "      <td>14.3</td>\n",
       "    </tr>\n",
       "    <tr>\n",
       "      <th>4</th>\n",
       "      <td>153</td>\n",
       "      <td>-15.7</td>\n",
       "    </tr>\n",
       "    <tr>\n",
       "      <th>5</th>\n",
       "      <td>175</td>\n",
       "      <td>6.3</td>\n",
       "    </tr>\n",
       "    <tr>\n",
       "      <th>6</th>\n",
       "      <td>161</td>\n",
       "      <td>-7.7</td>\n",
       "    </tr>\n",
       "    <tr>\n",
       "      <th>7</th>\n",
       "      <td>186</td>\n",
       "      <td>17.3</td>\n",
       "    </tr>\n",
       "    <tr>\n",
       "      <th>8</th>\n",
       "      <td>176</td>\n",
       "      <td>7.3</td>\n",
       "    </tr>\n",
       "    <tr>\n",
       "      <th>9</th>\n",
       "      <td>159</td>\n",
       "      <td>-9.7</td>\n",
       "    </tr>\n",
       "  </tbody>\n",
       "</table>\n",
       "</div>"
      ],
      "text/plain": [
       "    경기    편차\n",
       "0  168  -0.7\n",
       "1  170   1.3\n",
       "2  156 -12.7\n",
       "3  183  14.3\n",
       "4  153 -15.7\n",
       "5  175   6.3\n",
       "6  161  -7.7\n",
       "7  186  17.3\n",
       "8  176   7.3\n",
       "9  159  -9.7"
      ]
     },
     "metadata": {},
     "output_type": "display_data"
    },
    {
     "name": "stdout",
     "output_type": "stream",
     "text": [
      "1.1368683772161603e-13\n",
      "편차의 합 : 0\n"
     ]
    }
   ],
   "source": [
    "gyeonggi_df = df['경기'].to_frame()\n",
    "gyeonggi_df['편차'] = gyeonggi_df['경기'].apply(lambda x : x - gyeonggi_df.mean())\n",
    "\n",
    "display(gyeonggi_df)\n",
    "\n",
    "# e가 붙어있는 수는 엄청 작은 수나 엄청 큰 수를 간략화 해주는 기능 \n",
    "# 이때 e는 자연 상수가 아니며, 과학적 기수법 e라고 한다. \n",
    "# (a)e(b) = a * 10^b\n",
    "print(gyeonggi_df['편차'].sum())\n",
    "\n",
    "# 실수의 오류를 원래 값으로 변경하고자 반올림(round)사용 \n",
    "total = round(gyeonggi_df['편차'].sum())\n",
    "print(f'편차의 합 : {total}')"
   ]
  },
  {
   "cell_type": "markdown",
   "id": "e8b7c067-cd61-4199-9f7a-012eea1db4aa",
   "metadata": {},
   "source": [
    "#### 분산 (Variance)\n",
    "- 변량이 평균으로부터 떨어져있는 정도를 보기 위한 통계량이다.\n",
    "- 편차에 제곱하여 그 합을 구한 뒤 산술 평균을 낸다.\n",
    "\n",
    "<img src=\"./images/variance.png\" style=\"margin-left: 10px\">"
   ]
  },
  {
   "cell_type": "code",
   "execution_count": 76,
   "id": "7787846f-dc52-4879-b400-226b6394615e",
   "metadata": {},
   "outputs": [
    {
     "data": {
      "text/html": [
       "<div>\n",
       "<style scoped>\n",
       "    .dataframe tbody tr th:only-of-type {\n",
       "        vertical-align: middle;\n",
       "    }\n",
       "\n",
       "    .dataframe tbody tr th {\n",
       "        vertical-align: top;\n",
       "    }\n",
       "\n",
       "    .dataframe thead th {\n",
       "        text-align: right;\n",
       "    }\n",
       "</style>\n",
       "<table border=\"1\" class=\"dataframe\">\n",
       "  <thead>\n",
       "    <tr style=\"text-align: right;\">\n",
       "      <th></th>\n",
       "      <th>경기</th>\n",
       "      <th>편차</th>\n",
       "      <th>편차의 제곱(분산)</th>\n",
       "    </tr>\n",
       "  </thead>\n",
       "  <tbody>\n",
       "    <tr>\n",
       "      <th>0</th>\n",
       "      <td>168</td>\n",
       "      <td>-0.7</td>\n",
       "      <td>0.49</td>\n",
       "    </tr>\n",
       "    <tr>\n",
       "      <th>1</th>\n",
       "      <td>170</td>\n",
       "      <td>1.3</td>\n",
       "      <td>1.69</td>\n",
       "    </tr>\n",
       "    <tr>\n",
       "      <th>2</th>\n",
       "      <td>156</td>\n",
       "      <td>-12.7</td>\n",
       "      <td>161.29</td>\n",
       "    </tr>\n",
       "    <tr>\n",
       "      <th>3</th>\n",
       "      <td>183</td>\n",
       "      <td>14.3</td>\n",
       "      <td>204.49</td>\n",
       "    </tr>\n",
       "    <tr>\n",
       "      <th>4</th>\n",
       "      <td>153</td>\n",
       "      <td>-15.7</td>\n",
       "      <td>246.49</td>\n",
       "    </tr>\n",
       "    <tr>\n",
       "      <th>5</th>\n",
       "      <td>175</td>\n",
       "      <td>6.3</td>\n",
       "      <td>39.69</td>\n",
       "    </tr>\n",
       "    <tr>\n",
       "      <th>6</th>\n",
       "      <td>161</td>\n",
       "      <td>-7.7</td>\n",
       "      <td>59.29</td>\n",
       "    </tr>\n",
       "    <tr>\n",
       "      <th>7</th>\n",
       "      <td>186</td>\n",
       "      <td>17.3</td>\n",
       "      <td>299.29</td>\n",
       "    </tr>\n",
       "    <tr>\n",
       "      <th>8</th>\n",
       "      <td>176</td>\n",
       "      <td>7.3</td>\n",
       "      <td>53.29</td>\n",
       "    </tr>\n",
       "    <tr>\n",
       "      <th>9</th>\n",
       "      <td>159</td>\n",
       "      <td>-9.7</td>\n",
       "      <td>94.09</td>\n",
       "    </tr>\n",
       "  </tbody>\n",
       "</table>\n",
       "</div>"
      ],
      "text/plain": [
       "    경기    편차  편차의 제곱(분산)\n",
       "0  168  -0.7        0.49\n",
       "1  170   1.3        1.69\n",
       "2  156 -12.7      161.29\n",
       "3  183  14.3      204.49\n",
       "4  153 -15.7      246.49\n",
       "5  175   6.3       39.69\n",
       "6  161  -7.7       59.29\n",
       "7  186  17.3      299.29\n",
       "8  176   7.3       53.29\n",
       "9  159  -9.7       94.09"
      ]
     },
     "metadata": {},
     "output_type": "display_data"
    },
    {
     "name": "stdout",
     "output_type": "stream",
     "text": [
      "분산 : 116.01\n"
     ]
    }
   ],
   "source": [
    "gyeonggi_df['편차의 제곱(분산)'] = gyeonggi_df['편차'].apply(lambda x : x**2)\n",
    "display(gyeonggi_df)\n",
    "\n",
    "variance = gyeonggi_df['편차의 제곱(분산)'].mean()\n",
    "print(f'분산 : {round(variance, 2)}')"
   ]
  },
  {
   "cell_type": "markdown",
   "id": "bbacfb2d-d0b0-4b15-a055-06e3cc3ded2c",
   "metadata": {},
   "source": [
    "#### 표준편차(Standard deviation)\n",
    "- 분산의 제곱근이며, 관측된 변량의 흩어진 정도를 하나의 수치로 나타내는 통계량이다.\n",
    "- 표준편차가 작을 수록 평균 값에서 변량들의 거리가 가깝다고 판단한다.\n",
    "\n",
    "<img src=\"./images/standard_deviation.png\" style=\"margin-left:15px\">"
   ]
  },
  {
   "cell_type": "code",
   "execution_count": 77,
   "id": "02b9a7d5-9ef6-4fa8-bd02-5c6898ebed83",
   "metadata": {},
   "outputs": [
    {
     "name": "stdout",
     "output_type": "stream",
     "text": [
      "표준편차: 10.770793842609745\n"
     ]
    }
   ],
   "source": [
    "import math\n",
    "\n",
    "std = math.sqrt(variance)\n",
    "print(f'표준편차: {std}')"
   ]
  },
  {
   "cell_type": "markdown",
   "id": "d6d3ad9c-c6f9-4102-a4f8-88de00aa1aa0",
   "metadata": {
    "jp-MarkdownHeadingCollapsed": true
   },
   "source": [
    "#### 확률변수 (Random variable)\n",
    "- 머신러닝, 딥러닝 등 확률을 다루는 분야에 있어서 필수적인 개념이다.\n",
    "- 확률(probability)이 있다는 뜻은 사건(event)이 있다는 뜻이며,\n",
    "  시행(trial)을 해야 시행의 결과인 사건(event)이 나타난다.\n",
    "- 시행(trial)을 해서 어떤 사건(event)이 나타났는지에 따라 값이 정해지는 변수이다.\n",
    "- 알파벳 대문자로 표현하며, X, Y, Z 또는 X<sub>1</sub>,X<sub>2</sub>,X<sub>3</sub>과 같이 표현한다.\n",
    "- 확률 변수는 집합이며, 원소를 확률변수 값(Value of random variable)이라고 표현한다.\n",
    "  확률 변수에서 사용한 알파벳의 소문자를 사용한다.\n",
    "- Y = {y<sub>1</sub> , y<sub>2</sub>, y<sub>3</sub>}, 이때 Y는 확률 변수이고 원소인 y<sub>1</sub> , y<sub>2</sub>, y<sub>3</sub>은 확률 변수 값이다.\n",
    "\n",
    "<img src=\"./images/random_variable.jpg\" width=\"700px\" style=\"margin-left:15px\">"
   ]
  },
  {
   "cell_type": "markdown",
   "id": "eff2f4da-c775-41b7-97af-959eaec28c17",
   "metadata": {},
   "source": [
    "#### 범주형 확률 변수 (Categorical random variable)\n",
    "- 범주형 확률변수값은 수치가 아닌 기호나 언어, 숫자 등으로 표현하고, 기호나 언어는 순서를 가질 수 도 있다.\n",
    "- 유한집합으로 표현한다. 유하집합은 원소의 수가 유한한 집합을 의미한다.\n",
    "- {앞면,뒷면}, {동의, 비동의}, {선택, 미선택} , {봄,여름,가을,겨울}"
   ]
  },
  {
   "cell_type": "markdown",
   "id": "6b888228-367d-4766-9ec7-9933eda71e03",
   "metadata": {},
   "source": [
    "#### 이산형 확률변수(Discreate random variable)\n",
    "- 이산형 확률변수 값은 수치로 표현하고 셀 수 있는 값이다. 이를 더 넓은 범위로, 양적 확률변수\n",
    "  또는 수치형 확률변수라고도 부른다.\n",
    "- 유한집합 또는 셀 수 있는 무한 집합으로 표현한다. 무한집합은 원소의 개수가 무한한 집합을 의미한다.\n",
    "- {0,1,2,3}, {10,20,30}, {1,2,3,...}, {100,1000,10000}"
   ]
  },
  {
   "cell_type": "markdown",
   "id": "84d0ca4a-af49-4f4f-b4c7-ecde85415a46",
   "metadata": {},
   "source": [
    "#### 연속형 확률변수 (Continuous random variable)\n",
    "- 연속형 확률변수는 구간을 나타내는 수치로 표현한다. 이를 더 넓은 범위로,  \n",
    "  양적 확률변수 또는 수치형 확률변수라고도 부른다.\n",
    "- 셀 수 없는 무한집합으로 표현한다.\n",
    "- 128.56 < X < 268.56"
   ]
  },
  {
   "cell_type": "markdown",
   "id": "3cd6fd9b-cfed-48a6-a1c8-b9914338d038",
   "metadata": {},
   "source": [
    "#### 확률분포 (Probability distribution)\n",
    "- 사건에 대한 확률변수에서 정의된 모든 확률값의 분포이며, 서로 다른 모든 결과의 출현 확률을 제공한다.  \n",
    "> <strong>1) 동전 던지기(시행)</strong>  \n",
    "> <strong>2) {0, 1} (확률변수와 확률변수값)</strong>  \n",
    "> <strong>3) 완벽한 형태의 동전일 경우 확률 분포</strong>\n",
    ">\n",
    "> <img src='./images/probability_distribution01.png.png'>     \n",
    ">  \n",
    "> <strong>1)1 ~ 12까지 새겨진 주사위 던지기 (시행)</strong>  \n",
    "> <strong>2) {1,2,3,4,5,6,7,8,9,10,11,12} (확률변수와 확률변수값)</strong>  \n",
    "> <strong>3) 완벽한 형태의 동전일 경우 확률 분포</strong>\n",
    ">\n",
    "> <img src='./images/probability_distribution02.png'>"
   ]
  },
  {
   "cell_type": "markdown",
   "id": "64fc32f0-f918-4218-914d-90784469a608",
   "metadata": {},
   "source": [
    "#### 확률분포표 (Probability distribution table)\n",
    "- 확률변수의 모든 값(원소)에 대해 확률을 표로 표시한 것이다.\n",
    "- 범주형 또는 이산형 확률변수의 확률분포를 표현하기에 적합한 방식이다."
   ]
  },
  {
   "cell_type": "code",
   "execution_count": 84,
   "id": "769afa66-e1fb-44bc-ab52-4d0f8f9a90f2",
   "metadata": {},
   "outputs": [
    {
     "data": {
      "text/html": [
       "<div>\n",
       "<style scoped>\n",
       "    .dataframe tbody tr th:only-of-type {\n",
       "        vertical-align: middle;\n",
       "    }\n",
       "\n",
       "    .dataframe tbody tr th {\n",
       "        vertical-align: top;\n",
       "    }\n",
       "\n",
       "    .dataframe thead th {\n",
       "        text-align: right;\n",
       "    }\n",
       "</style>\n",
       "<table border=\"1\" class=\"dataframe\">\n",
       "  <thead>\n",
       "    <tr style=\"text-align: right;\">\n",
       "      <th></th>\n",
       "      <th>경주마 번호</th>\n",
       "      <th>1등 횟수</th>\n",
       "      <th>1등할 확률</th>\n",
       "    </tr>\n",
       "  </thead>\n",
       "  <tbody>\n",
       "    <tr>\n",
       "      <th>0</th>\n",
       "      <td>1</td>\n",
       "      <td>25</td>\n",
       "      <td>0.25</td>\n",
       "    </tr>\n",
       "    <tr>\n",
       "      <th>1</th>\n",
       "      <td>2</td>\n",
       "      <td>25</td>\n",
       "      <td>0.25</td>\n",
       "    </tr>\n",
       "    <tr>\n",
       "      <th>2</th>\n",
       "      <td>3</td>\n",
       "      <td>25</td>\n",
       "      <td>0.25</td>\n",
       "    </tr>\n",
       "    <tr>\n",
       "      <th>3</th>\n",
       "      <td>4</td>\n",
       "      <td>25</td>\n",
       "      <td>0.25</td>\n",
       "    </tr>\n",
       "  </tbody>\n",
       "</table>\n",
       "</div>"
      ],
      "text/plain": [
       "   경주마 번호  1등 횟수  1등할 확률\n",
       "0       1     25    0.25\n",
       "1       2     25    0.25\n",
       "2       3     25    0.25\n",
       "3       4     25    0.25"
      ]
     },
     "metadata": {},
     "output_type": "display_data"
    }
   ],
   "source": [
    "import numpy as np\n",
    "import pandas as pd\n",
    "\n",
    "df_h_dist = pd.DataFrame(np.arange(0, 100) % 4 + 1, columns=['경주마 번호'])\n",
    "\n",
    "df_h_dist_group = df_h_dist.groupby('경주마 번호')['경주마 번호'].count().reset_index(name=\"1등 횟수\")\n",
    "\n",
    "df_h_dist_group['1등할 확률'] = df_h_dist_group[\"1등 횟수\"] / 100\n",
    "display(df_h_dist_group)"
   ]
  },
  {
   "cell_type": "markdown",
   "id": "84fd37ff-c85d-4661-9b79-be87b546c6fa",
   "metadata": {},
   "source": [
    "#### 확률분포함수 (Probability distribution function)\n",
    "- 확률변수의 분포를 나타내는 함수로서, 확률변수의 확률 변수 값이 나올 확률을 나타내는 함수이다.\n",
    "- 확률질량함수, 확률밀도함수 등의 함수가 있다."
   ]
  },
  {
   "cell_type": "code",
   "execution_count": 94,
   "id": "82cb0642-b05c-4df3-b5e8-9035524fd01e",
   "metadata": {},
   "outputs": [
    {
     "data": {
      "image/png": "[encoded data removed]",
      "text/plain": [
       "<Figure size 640x480 with 1 Axes>"
      ]
     },
     "metadata": {},
     "output_type": "display_data"
    }
   ],
   "source": [
    "import matplotlib.pyplot as plt\n",
    "import numpy as np\n",
    "plt .hist(df_h_dist['경주마 번호'], range(1, 6), density=True, color='skyblue', edgecolor='blue')\n",
    "plt.xlim(0, 6)\n",
    "plt.ylim(0, 1)\n",
    "plt.show()"
   ]
  },
  {
   "cell_type": "markdown",
   "id": "271c05f1-8907-436d-abbd-a53b7b138464",
   "metadata": {},
   "source": [
    "#### 확률질량함수 ( Probability mass function, pmf)\n",
    "- 확률변수 x의 분포를 나타내는 함수로서, x<sub>i</sub>가 나올 확률이다.\n",
    "- 확률변수의 값을 매개변수로 전달받고, 해당 값이 나타날 확률을 구해서 리턴하는 함수이다.\n",
    "- 범주형 확률변수와 이산형 확률변수에서 사용된다.\n",
    "- 확률변수에서 각 값에 대한 확률을 나타내는 것이 마치 각 값이 \"질량\"을 가지고 있는 것 처럼 보이기 때문에\n",
    "  확률 질량 함수로 불린다.\n",
    "\n",
    "> 확률질량 함수 f는 확률변수 X가 x를 변수 값으로 가질 때의 확률이다.  \n",
    "> <img src=\"./images/pmf01.png\" style=\"margin-top: 10px\">  \n",
    "> <img src=\"./images/pmf02.png\">  \n",
    "> <img src=\"./images/pmf03.png\">"
   ]
  },
  {
   "cell_type": "code",
   "execution_count": 103,
   "id": "f6ed6728-31f4-402e-afb9-5f04569d8448",
   "metadata": {},
   "outputs": [
    {
     "data": {
      "text/html": [
       "<div>\n",
       "<style scoped>\n",
       "    .dataframe tbody tr th:only-of-type {\n",
       "        vertical-align: middle;\n",
       "    }\n",
       "\n",
       "    .dataframe tbody tr th {\n",
       "        vertical-align: top;\n",
       "    }\n",
       "\n",
       "    .dataframe thead th {\n",
       "        text-align: right;\n",
       "    }\n",
       "</style>\n",
       "<table border=\"1\" class=\"dataframe\">\n",
       "  <thead>\n",
       "    <tr style=\"text-align: right;\">\n",
       "      <th></th>\n",
       "      <th>경주마 번호</th>\n",
       "      <th>1등 횟수</th>\n",
       "      <th>1등할 확률</th>\n",
       "    </tr>\n",
       "  </thead>\n",
       "  <tbody>\n",
       "    <tr>\n",
       "      <th>0</th>\n",
       "      <td>1</td>\n",
       "      <td>26</td>\n",
       "      <td>0.26</td>\n",
       "    </tr>\n",
       "    <tr>\n",
       "      <th>1</th>\n",
       "      <td>2</td>\n",
       "      <td>28</td>\n",
       "      <td>0.28</td>\n",
       "    </tr>\n",
       "    <tr>\n",
       "      <th>2</th>\n",
       "      <td>3</td>\n",
       "      <td>22</td>\n",
       "      <td>0.22</td>\n",
       "    </tr>\n",
       "    <tr>\n",
       "      <th>3</th>\n",
       "      <td>4</td>\n",
       "      <td>24</td>\n",
       "      <td>0.24</td>\n",
       "    </tr>\n",
       "  </tbody>\n",
       "</table>\n",
       "</div>"
      ],
      "text/plain": [
       "   경주마 번호  1등 횟수  1등할 확률\n",
       "0       1     26    0.26\n",
       "1       2     28    0.28\n",
       "2       3     22    0.22\n",
       "3       4     24    0.24"
      ]
     },
     "metadata": {},
     "output_type": "display_data"
    }
   ],
   "source": [
    "import numpy as np\n",
    "import pandas as pd\n",
    "\n",
    "\n",
    "df_h = pd.DataFrame(np.random.randint(1, 5, size=(100, 1)), columns = ['경주마 번호'])\n",
    "df_h_group = df_h.groupby('경주마 번호')['경주마 번호'].count().reset_index(name=\"1등 횟수\")\n",
    "df_h_group['1등할 확률'] = df_h_group['1등 횟수'] / 100\n",
    "display(df_h_group)\n"
   ]
  },
  {
   "cell_type": "code",
   "execution_count": 107,
   "id": "56ef3490-0447-47e2-8646-a4dbe683dddb",
   "metadata": {},
   "outputs": [
    {
     "data": {
      "image/png": "[encoded data removed]",
      "text/plain": [
       "<Figure size 640x480 with 1 Axes>"
      ]
     },
     "metadata": {},
     "output_type": "display_data"
    }
   ],
   "source": [
    "import matplotlib.pyplot as plt\n",
    "import numpy as np\n",
    "\n",
    "plt .hist(df_h['경주마 번호'], range(1, 6), density=True \\\n",
    "    ,color = 'pink', edgecolor='red', linewidth=2)\n",
    "plt.show()"
   ]
  },
  {
   "cell_type": "markdown",
   "id": "91d1780c-80dd-40bc-8a93-2bf19c0023eb",
   "metadata": {},
   "source": [
    "#### 무한대 (Infinity)\n",
    "- 끝없이 커지는 상태를 의미하고 기호로 ∞를 사용한다."
   ]
  },
  {
   "cell_type": "markdown",
   "id": "61302b99-2758-4399-9fdf-2b1cf3178439",
   "metadata": {},
   "source": [
    "#### 무한소 0 (Infinitesimal)\n",
    "- 거의 없다는 의미이고, 0에 매우 근접하지만 0이 아닌 상태를 의미한다."
   ]
  },
  {
   "cell_type": "markdown",
   "id": "47193623-84be-4a1c-a27b-866872ec1543",
   "metadata": {},
   "source": [
    "#### 미분 (Differential)\n",
    "- 기울기는 독립변수가 종속변수에 미치는 영향력의 크기를 의미한다. (접선의 기울기가 핵심)\n",
    "- 변경 전의 독립변수 x<sub>1</sub>이라는 점과 변경 후의 x<sub>2</sub>라는 점을 지나는 직선의 기울기가 바로\n",
    "  변화에 대한 속도이다.\n",
    "- 즉, 직선의 기울기가 4로 구해졌다면, 종속변수가 독립변수의 변화에 4배 속도로 변환된 것이다.\n",
    "- 이때, 두 점 사이가 무한히 가까워지면, 결국 거의 한 점과 같은 점에 대한 접선의 기울기가 되고 이는 순간적인 변화량이다.\n",
    "- 미분을 통해서 독립변수가 굉장히 미세하게 변화할 때 순간적으로 종속변수가 얼마나 빠르게 변화하는지를 알 수 있다. "
   ]
  },
  {
   "cell_type": "markdown",
   "id": "18359279-fa5f-4192-81e0-f9c55b508657",
   "metadata": {},
   "source": [
    "#### 적분 (Integral)\n",
    "- 선분 = 높이(길이), 면적 = 가로 X 높이 \n",
    "- 면적을 구할 때 여러 사각형으로 나눈 뒤 합하여도 전체 면적이 나온다.\n",
    "- 가로가 무한소 0인 사각형 즉, 선분과 거의 비슷한 사각형을 쌓은 뒤, 각 면적을 모두 합하는 것이 적분이다."
   ]
  },
  {
   "cell_type": "markdown",
   "id": "7a6b375d-aa41-47cc-b0fc-1d162f60c9ab",
   "metadata": {},
   "source": [
    "#### 확률밀도 함수(Probability density function, pdf)\n",
    "- 확률변수 X의 분포를 나타내는 함수로서, 특정 구간에 속할 확률이고 이는 특정 구간을 적분한 값이다.\n",
    "- 확률변수 값의 범위(구간)를 매개변수로 전달받고, 범위의 넓이를 구해서 리턴하는 함수이다.\n",
    "- 연속형 확률변수에서 사용된다.\n",
    "- 전체에 대한 확률이 아닌 구간에 포함될 확률을 나타내기 떄문에 구간에 따른 밀도를 구하는 것이고,\n",
    "  이를 통해 확률밀도 함수라고 불린다.\n",
    "> 확률 밀도 함수 f는 특정 구간에 포함될 확률을 나타낸다.  \n",
    ">  <img src=\"./images/pdf01.png\">  \n",
    ">  <img src=\"./images/pdf02.png\">  \n",
    ">  <img src=\"./images/pdf03.png\">  \n",
    ">  <img src=\"./images/pdf04.png\">    \n",
    "  "
   ]
  },
  {
   "cell_type": "code",
   "execution_count": 113,
   "id": "a45a1f9c-16c6-4a29-a239-e22c66414324",
   "metadata": {},
   "outputs": [
    {
     "name": "stdout",
     "output_type": "stream",
     "text": [
      "구간 [-1, 2]에서의 확률: 0.8185946141203638\n"
     ]
    },
    {
     "data": {
      "image/png": "[encoded data removed]",
      "text/plain": [
       "<Figure size 640x480 with 1 Axes>"
      ]
     },
     "metadata": {},
     "output_type": "display_data"
    }
   ],
   "source": [
    "import numpy as np\n",
    "import matplotlib.pyplot as plt\n",
    "from scipy.integrate import quad\n",
    "\n",
    "# 임의의 확률밀도 함수 정의\n",
    "def pdf(x):\n",
    "    # 정규분포\n",
    "    mu = 0\n",
    "    sigma = 1\n",
    "    return 1 / (sigma * np.sqrt(2 * np.pi)) * np.exp(-((x - mu) / sigma) ** 2 / 2)\n",
    "\n",
    "# 랜덤한 구간\n",
    "a = -1\n",
    "b = 2\n",
    "\n",
    "def calculate_probability_in_range(a, b):\n",
    "    probability, _ = quad(pdf, a, b)\n",
    "    return probability\n",
    "\n",
    "probability = calculate_probability_in_range(a, b)\n",
    "print(f'구간 [{a}, {b}]에서의 확률: {probability}')\n",
    "\n",
    "x_values = np.linspace(-5, 5, 10000)\n",
    "y_values = pdf(x_values)\n",
    "\n",
    "plt.plot(x_values, y_values, label='pdf', color='blue')\n",
    "plt.fill_between(x_values, y_values\\\n",
    "                 , where=(x_values >= a) & (x_values <= b)\\\n",
    "                 , color='skyblue', alpha=0.5, label='area')\n",
    "plt.axvline(x=a, linestyle='--', color='red', label='start')\n",
    "plt.axvline(x=b, linestyle='--', color='red', label='end')\n",
    "plt.xlabel('x')\n",
    "plt.ylabel('density')\n",
    "plt.title('Probability density function')\n",
    "plt.legend()\n",
    "plt.grid(True)\n",
    "plt.show()"
   ]
  },
  {
   "cell_type": "markdown",
   "id": "10473226-7b0e-4b3f-a8dc-fc5db92612a8",
   "metadata": {},
   "source": [
    "#### 정규분포 ( Nomal distribution )\n",
    "- 모든 독립적인 확률변수들의 평균은 어떠한 분포에 가까워지는데, 이 분포를 정규분포라고 한다.\n",
    "- 즉, 비정규분포의 대부분은 극한 상태에 있어서 정규분포에 가까워진다.\n",
    "\n",
    "<img src=\"./images/normal_distribution01.png\" width=\"500px\"> <img src=\"./images/normal_distribution02.png\" width=\"500px\">  \n",
    "- 평균 μ(mu)와 표준편차 σ(sigma)에 대해 아래의 확률밀도함수를 가지는 분포를 의미한다.\n",
    "  \n",
    "<div style=\"display: flex\">\n",
    "    <div>\n",
    "        <img src=\"./images/normal_distribution03.png\" width=\"230px\" style=\"margin-left: 20px\">\n",
    "    </div>\n",
    "    <div>\n",
    "        <img src=\"./images/normal_distribution04.png\" width=\"700px\" style=\"margin-left: 20px\">\n",
    "    </div>\n",
    "</div>"
   ]
  },
  {
   "cell_type": "markdown",
   "id": "94b69bdf-fb2a-422e-9e41-d93ca84c4f35",
   "metadata": {},
   "source": [
    "#### 표준정규분포 (Standard nomal distribution)\n",
    "- 정규분포는 평균과 표준편차에 따라서 모양이 달라진다.  \n",
    "\n",
    "<img src=\"./images/standard_normal_distribution01.png\" width=\"400px\">   \n",
    "\n",
    "- 정규분포를 따르는 분포는 많지만 각각의 평균과 표준편차가 달라서 매번 확률을 계산해야 하기 때문에 일반화 할 수 없다.\n",
    "- N(μ,σ) = N(0,1) 즉, 평균을 0, 표준편차를 1로 만든다면 모두 같은 특성을 가지는 동일한 확률분포로 바꿔서 일반화 할 수 있다.\n",
    "- 따라서 일반 정규분포를 표준 정규분포로 바꾼 뒤 표준 정규분포의 특정 구간의 넓이를 이용해서 원래 분포의 확률을 구할 수 있다.\n",
    "\n",
    "<img src=\"./images/standard_normal_distribution02.png\" width=\"550px\">"
   ]
  },
  {
   "cell_type": "markdown",
   "id": "bf189d4c-64ad-4668-8de3-9f5fac5cdbfb",
   "metadata": {},
   "source": [
    "#### 표준화 (Standardization)\n",
    "- 다양한 형태의 정규 분포를 표준 정규분포로 변환하는 방법이다.\n",
    "- 표준 정규분포에 대한 값(넓이)를 이용해 원래 분포의 확률을 구할 수 있다.\n",
    "\n",
    "<img src=\"./images/standardization01.png\">\n",
    "<img src=\"./images/standardization02.png\">"
   ]
  },
  {
   "cell_type": "markdown",
   "id": "1168decd-b60f-4e1b-aea1-b3774deeaf6f",
   "metadata": {},
   "source": [
    "#### 모집단과 모수 ( Population and poplulation parameter )\n",
    "- 모집단이란, 정보를 얻고자 하는 대상의 전체 집합을 의미한다.\n",
    "- 모수란, 모집단의 수치적 요약값을 의미한다. 평균 또는 표준편차와 같은 모집단의 통계값을 모수라고 한다."
   ]
  },
  {
   "cell_type": "markdown",
   "id": "0c82c340-3cb4-4c48-ae6f-8459b83aa03e",
   "metadata": {},
   "source": [
    "#### 표본과 샘플링 (Sample and Sampling)\n",
    "- 표본이란, 모집단의 부분집합으로서 표본의 통계량을 통해 모집단의 통계량을 추론할 수 있다.\n",
    "- 모집단의 통계량을 구할 수 없는 상황 즉, 전수 조사가 불가능한 상황에서 임의의 표본을 추출하여 분석한다.\n",
    "- 이렇게 표본(sample)을 추출하는 작업을 샘플링(Sampling)이라고 한다."
   ]
  },
  {
   "cell_type": "markdown",
   "id": "2a57505a-c765-4dbb-9a9e-9bde1f4fe945",
   "metadata": {},
   "source": [
    "### 데이터 분석의 범위 \n",
    "<img src=\"./images/statistics02.png\" style=\"margin-left: 10px\">  \n",
    "\n",
    "#### 기술 통계 (Descriptive Statistics)  \n",
    "- 수집한 데이터의 요약을 통해서 데이터를 설명(묘사)하는 기법이다.\n",
    "- 수집한 데이터의 전체적인 모양을 그리기 위해 기술 통계 기법을 사용한다.\n",
    "- 집중화 경향(Central tendency) : 평균(Mean), 중앙값(Median), 최빈값(Mode)\n",
    "- 분산도(Variation) : 표준편차(Standard deviation), 사분위 (Quartile)\n",
    "\n",
    "\n",
    "#### 추론 통계 (Inferential Statistics)\n",
    "- 수집한 데이터를 기반으로 특성(패턴)을 알아낸 뒤 특정 데이터를 추론하거나 예측하는 기법이다.\n",
    "- 모집단(Population)에서 일정 표본(Sample)을 채취한 뒤, 표본에 대한 통계를 구하여 모집단에 대해 추론한다. 이를 통해 결론에 도달하는 기법이다.\n",
    "- 데이터 전체를 조사할 수 없을 때, 랜덤한 표본을 분석해서 나온 결과를 전체적으로 일반화 시킬 때 유용하다."
   ]
  },
  {
   "cell_type": "code",
   "execution_count": null,
   "id": "9f25e459-264c-4852-90b8-4919e6b134c4",
   "metadata": {},
   "outputs": [],
   "source": []
  },
  {
   "cell_type": "code",
   "execution_count": null,
   "id": "2b9c26c6-ee1e-45fc-a2cd-67deb7b08587",
   "metadata": {},
   "outputs": [],
   "source": []
  },
  {
   "cell_type": "code",
   "execution_count": null,
   "id": "7f9271d7-72cd-4d5e-a047-c4e883080fac",
   "metadata": {},
   "outputs": [],
   "source": []
  },
  {
   "cell_type": "code",
   "execution_count": null,
   "id": "7a36a904-6815-4062-877c-80888fd19193",
   "metadata": {},
   "outputs": [],
   "source": []
  },
  {
   "cell_type": "code",
   "execution_count": null,
   "id": "c392ecb9-35a3-4c6b-966a-d65ef6f8bf40",
   "metadata": {},
   "outputs": [],
   "source": []
  },
  {
   "cell_type": "code",
   "execution_count": null,
   "id": "3bbcae48-8231-4dd9-ba8a-2a3c6fda9d03",
   "metadata": {},
   "outputs": [],
   "source": []
  },
  {
   "cell_type": "code",
   "execution_count": null,
   "id": "8a398f57-5c60-44f7-b1b3-ef45fec503a6",
   "metadata": {},
   "outputs": [],
   "source": []
  },
  {
   "cell_type": "code",
   "execution_count": null,
   "id": "d0045471-7ba6-4aaa-a9cd-3ed828dce536",
   "metadata": {},
   "outputs": [],
   "source": []
  },
  {
   "cell_type": "code",
   "execution_count": null,
   "id": "0d9105f7-6311-46ec-a3f2-30de7457744a",
   "metadata": {},
   "outputs": [],
   "source": []
  },
  {
   "cell_type": "code",
   "execution_count": null,
   "id": "a1608ae8-75cd-400a-b2d5-61de2d61de59",
   "metadata": {},
   "outputs": [],
   "source": []
  },
  {
   "cell_type": "code",
   "execution_count": null,
   "id": "0816f949-8ae2-4215-b5b3-7d19c46c6bb9",
   "metadata": {},
   "outputs": [],
   "source": []
  },
  {
   "cell_type": "code",
   "execution_count": null,
   "id": "774ee03c-a3bd-4862-ad4a-6f75016778db",
   "metadata": {},
   "outputs": [],
   "source": []
  },
  {
   "cell_type": "code",
   "execution_count": null,
   "id": "6136d8c2-54bd-47a6-9bd1-36454afd0ae9",
   "metadata": {},
   "outputs": [],
   "source": []
  }
 ],
 "metadata": {
  "kernelspec": {
   "display_name": "Python 3 (ipykernel)",
   "language": "python",
   "name": "python3"
  },
  "language_info": {
   "codemirror_mode": {
    "name": "ipython",
    "version": 3
   },
   "file_extension": ".py",
   "mimetype": "text/x-python",
   "name": "python",
   "nbconvert_exporter": "python",
   "pygments_lexer": "ipython3",
   "version": "3.11.8"
  }
 },
 "nbformat": 4,
 "nbformat_minor": 5
}

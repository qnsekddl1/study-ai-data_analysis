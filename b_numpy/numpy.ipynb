{
 "cells": [
  {
   "cell_type": "code",
   "execution_count": 2,
   "id": "415581c3-3b71-4b5c-aaae-c4178e234cec",
   "metadata": {},
   "outputs": [],
   "source": [
    "import numpy as np"
   ]
  },
  {
   "cell_type": "code",
   "execution_count": 3,
   "id": "bedabf4f-33a2-4504-887d-1a13edac65b3",
   "metadata": {},
   "outputs": [
    {
     "name": "stdout",
     "output_type": "stream",
     "text": [
      "1.26.4\n"
     ]
    }
   ],
   "source": [
    "print(np.__version__)"
   ]
  },
  {
   "cell_type": "markdown",
   "id": "dbfe4ef5-203c-43a3-ab45-4e14dbe3bf3b",
   "metadata": {},
   "source": [
    "### Numpy\n",
    "- 머신러닝 애플리케이션에서 데이터 추출, 가공, 변환과 같은 데이터 처리 부분을 담당한다.\n",
    "- 넘파이 기반의 사이킷런을 이해하기 위해서는 넘파이는 필수이다.\n",
    "- 사이킷런은 직관적이고 간결하기 때문에 상대적으로 개발하기 쉽지만 넘파이는 양도 많고 배울 것도 많다.\n",
    "- 넘파이 전체를 다 이해하고 공부한는 것은 머신러닝을 포기하게 만들기 때문에 기본 문법과 중요 API만 이해하는 것이 전략적으로 좋다."
   ]
  },
  {
   "cell_type": "markdown",
   "id": "cea48544-fec6-4a79-8374-d8fdfae311f2",
   "metadata": {},
   "source": [
    "#### ndarray\n",
    "- N 차원(n-dimension) 배열 객체이다.\n",
    "- 파이썬 list를 array() 메소드에 전달하면 ndarry로 변환되고 넘파이의 다양하고 편리한 기능들을 사용할 수 있게 된다.\n",
    "- 반드시 같은 자료형의 데이터만 담아야 한다.\n",
    "\n",
    "<img src=\"https://github.com/qnsekddl1/study-ai/assets/156397913/ad6e0cbb-3a91-4197-8c3b-cdec82cd1af0\" width=\"400px\" style=\"margin-left:10px;\">"
   ]
  },
  {
   "cell_type": "code",
   "execution_count": 4,
   "id": "407c28da-3d72-434f-8862-bb666fce7270",
   "metadata": {},
   "outputs": [],
   "source": [
    "import numpy as np"
   ]
  },
  {
   "cell_type": "code",
   "execution_count": 7,
   "id": "4ed4fc06-0298-41dd-b766-41475a073a28",
   "metadata": {},
   "outputs": [
    {
     "name": "stdout",
     "output_type": "stream",
     "text": [
      "<class 'numpy.ndarray'>\n",
      "[1 2 3]\n",
      "==============================\n",
      "(3,)\n",
      "1\n"
     ]
    }
   ],
   "source": [
    "ndarray1 = np.array([1, 2, 3])\n",
    "print(type(ndarray1), ndarray1, sep=\"\\n\")\n",
    "\n",
    "print(\"=\" * 30)\n",
    "\n",
    "# shape: 차원별 개수를 나타낸다.\n",
    "print(ndarray1.shape)\n",
    "\n",
    "#ndim: 차원을 나타낸다.\n",
    "print(ndarray1.ndim)"
   ]
  },
  {
   "cell_type": "code",
   "execution_count": null,
   "id": "92d4beeb-bebe-4bee-ab47-3f5370426118",
   "metadata": {},
   "outputs": [],
   "source": [
    "# 아래의 2차원 list를 ndarray로 변환한다.\n",
    "# 1 2 3\n",
    "# 4 5 6\n",
    "\n",
    "# 차원을 출력해본다."
   ]
  },
  {
   "cell_type": "code",
   "execution_count": 17,
   "id": "85445ad1-894b-424f-8747-b6b870abb178",
   "metadata": {},
   "outputs": [
    {
     "name": "stdout",
     "output_type": "stream",
     "text": [
      "<class 'numpy.ndarray'>\n",
      "[[1 2 3]\n",
      " [4 5 6]]\n",
      "(2, 3)\n",
      "2\n"
     ]
    }
   ],
   "source": [
    "ndarray2 = np.array([[1, 2, 3], [4, 5, 6]])\n",
    "print(type(ndarray2), ndarray2, sep=\"\\n\")\n",
    "\n",
    "print(ndarray2.shape)\n",
    "print(ndarray2.ndim)"
   ]
  },
  {
   "cell_type": "markdown",
   "id": "270e63fa-3dd8-4b6e-807b-04a1164513da",
   "metadata": {},
   "source": [
    "#### astype()\n",
    "- ndarray에 저장된 요소의 타입을 변환시킬 때 사용한다.\n",
    "- 대용량 데이터 처리 시, 메모리 절약을 위해 사용한다."
   ]
  },
  {
   "cell_type": "code",
   "execution_count": 22,
   "id": "05be459a-934c-4284-b28f-6f0c33c6c25a",
   "metadata": {},
   "outputs": [
    {
     "name": "stdout",
     "output_type": "stream",
     "text": [
      "<class 'numpy.ndarray'>\n",
      "int32\n",
      "<class 'numpy.ndarray'>\n",
      "int8\n"
     ]
    }
   ],
   "source": [
    "ndarray1 = np.array([1, 2, 3])\n",
    "print(type(ndarray1))\n",
    "print(ndarray1.dtype)\n",
    "\n",
    "ndarray1_int8 = ndarray1.astype(np.int8)\n",
    "\n",
    "print(type(ndarray1_int8))\n",
    "print(ndarray1_int8.dtype)"
   ]
  },
  {
   "cell_type": "code",
   "execution_count": 31,
   "id": "3897cd14-35d7-492b-a3bd-6a5b833f992e",
   "metadata": {},
   "outputs": [
    {
     "name": "stdout",
     "output_type": "stream",
     "text": [
      "<class 'numpy.ndarray'>\n",
      "int32 (3,)\n",
      "<class 'numpy.ndarray'>\n",
      "float16 (3,)\n",
      "[4 5 6] [4. 5. 6.]\n"
     ]
    }
   ],
   "source": [
    "# 4, 5, 6을 ndarrary에 담는다.\n",
    "# dtype을 확인한 뒤 float16으로 변경시키고 확인한다.\n",
    "\n",
    "ndarray2 = np.array([4, 5, 6])\n",
    "print(type(ndarray2))\n",
    "print(ndarray2.dtype, ndarray2.shape)\n",
    "\n",
    "ndarray2_float16 = ndarray2.astype(np.float16)\n",
    "print(type(ndarray2_float16))\n",
    "print(ndarray2_float16.dtype, ndarray2_float16.shape)\n",
    "print(ndarray2, ndarray2_float16)"
   ]
  },
  {
   "cell_type": "markdown",
   "id": "58bf9dd6-0111-41dc-a1c4-98ae9537e74d",
   "metadata": {
    "jp-MarkdownHeadingCollapsed": true
   },
   "source": [
    "#### axis\n",
    "- 축의 방향성을 표현할 때 axis로 표현할 수 있다.\n",
    "  \n",
    "<img src=\"https://github.com/qnsekddl1/study-ai/assets/156397913/3bad010a-3c63-471a-82ad-e0f5c061116a\" width=\"500\" style=\"margin-left: 10px;\">"
   ]
  },
  {
   "cell_type": "markdown",
   "id": "a06d1507-cc4b-4f8c-871e-e2d375fd23f4",
   "metadata": {},
   "source": [
    "#### arange(), zeros(), ones()\n",
    "- ndarray의 요소를 원하는 범위의 연속값, 0 또는 1로 초기화할 때 사용한다."
   ]
  },
  {
   "cell_type": "code",
   "execution_count": 47,
   "id": "ea079d6f-e9c6-4997-b817-d3c784f7ad92",
   "metadata": {},
   "outputs": [
    {
     "name": "stdout",
     "output_type": "stream",
     "text": [
      "int32 (10,)\n",
      "[0 1 2 3 4 5 6 7 8 9]\n",
      "==============================\n",
      "float64 (2, 3)\n",
      "[[0. 0. 0.]\n",
      " [0. 0. 0.]]\n",
      "==============================\n",
      "int16 (3,)\n",
      "[1 1 1]\n"
     ]
    }
   ],
   "source": [
    "# 0~9까지 1차원 ndarray\n",
    "ndarray1 = np.arange(0, 10)\n",
    "print(ndarray1.dtype, ndarray1.shape)\n",
    "print(ndarray1)\n",
    "\n",
    "print(\"=\" * 30)\n",
    "\n",
    "# 2행 3열 요소 모두 0으로 초기화\n",
    "ndarray2 = np.zeros((2, 3))\n",
    "print(ndarray2.dtype, ndarray2.shape)\n",
    "print(ndarray2)\n",
    "\n",
    "print(\"=\" * 30)\n",
    "\n",
    "# 1차원 3칸 배열 요소 모두 1로 초기화\n",
    "ndarray1 = np.ones((3, ), dtype=np.int16)\n",
    "print(ndarray1.dtype, ndarray1.shape)\n",
    "print(ndarray1)"
   ]
  },
  {
   "cell_type": "markdown",
   "id": "5ac4f4a0-d269-4e1f-87be-2ecdfd5bca6a",
   "metadata": {},
   "source": [
    "#### reshape()\n",
    "- ndarray의 기존 shape를 다른 shape로 변경한다."
   ]
  },
  {
   "cell_type": "code",
   "execution_count": 56,
   "id": "4271b5cd-4165-4734-b30e-b0f9099e3a52",
   "metadata": {},
   "outputs": [
    {
     "name": "stdout",
     "output_type": "stream",
     "text": [
      "(8,)\n",
      "[0 1 2 3 4 5 6 7]\n",
      "==============================\n",
      "(2, 4)\n",
      "[0 1 2 3 4 5 6 7]\n",
      "==============================\n",
      "(4, 2)\n",
      "[[0 1]\n",
      " [2 3]\n",
      " [4 5]\n",
      " [6 7]]\n",
      "==============================\n",
      "(8, 1)\n",
      "[[0]\n",
      " [1]\n",
      " [2]\n",
      " [3]\n",
      " [4]\n",
      " [5]\n",
      " [6]\n",
      " [7]]\n",
      "==============================\n"
     ]
    }
   ],
   "source": [
    "ndarray1 = np.arange(8)\n",
    "print(ndarray1.shape)\n",
    "print(ndarray1)\n",
    "\n",
    "print(\"=\" * 30)\n",
    "\n",
    "ndarray2 = ndarray1.reshape((2, 4))\n",
    "print(ndarray2.shape)\n",
    "print(ndarray1)\n",
    "\n",
    "print(\"=\" * 30)\n",
    "\n",
    "ndarray2 = ndarray1.reshape((-1, 2))\n",
    "print(ndarray2.shape)\n",
    "print(ndarray2)\n",
    "\n",
    "print(\"=\" * 30)\n",
    "\n",
    "ndarray2 = ndarray1.reshape((8, -1))\n",
    "print(ndarray2.shape)\n",
    "print(ndarray2)\n",
    "\n",
    "print(\"=\" * 30)"
   ]
  },
  {
   "cell_type": "markdown",
   "id": "fba04ed7-bf7e-4224-a91e-473711d007ae",
   "metadata": {},
   "source": [
    "#### Idexing\n",
    "- 특정 위치의 데이터를 가져오는 것\n",
    "- 위치 인덱싱(Location indexing)\n",
    "- 슬라이싱(Slicing)\n",
    "- 팬시 인덱싱(Fancy indexing)\n",
    "- 불린 인덱싱(Boolean indexing)"
   ]
  },
  {
   "cell_type": "code",
   "execution_count": 64,
   "id": "25b2089e-1341-462b-8b9a-afe5b46d4d34",
   "metadata": {},
   "outputs": [
    {
     "name": "stdout",
     "output_type": "stream",
     "text": [
      "[ 2  3  4  5  6  7  8  9 10]\n",
      "4 <class 'numpy.int32'>\n",
      "10 <class 'numpy.int32'>\n",
      "9 <class 'numpy.int32'>\n"
     ]
    }
   ],
   "source": [
    "# 1차원 위치 인덱싱: 전달한 위치(인덱스) 값 한 개 추출\n",
    "\n",
    "# 2부터 10까지 순서대로 요소를 같는 1차원 ndarray\n",
    "ndarray1 = np.arange(start=2, stop=11)\n",
    "print(ndarray1)\n",
    "\n",
    "data = ndarray1[2]\n",
    "print(data, type(data))\n",
    "\n",
    "data = ndarray1[-1]\n",
    "print(data, type(data))\n",
    "\n",
    "data = ndarray1[-2]\n",
    "print(data, type(data))"
   ]
  },
  {
   "cell_type": "code",
   "execution_count": 84,
   "id": "c87cb60b-ffff-43c7-b231-f2a33152dde6",
   "metadata": {},
   "outputs": [
    {
     "name": "stdout",
     "output_type": "stream",
     "text": [
      "[1 2 3 4 5 6 7 8 9]\n",
      "==============================\n",
      "[[1 2 3]\n",
      " [4 5 6]\n",
      " [7 8 9]]\n",
      "==============================\n",
      "4\n",
      "5\n",
      "9\n",
      "[1 2 3]\n",
      "[4 5 6]\n"
     ]
    }
   ],
   "source": [
    "# 2차원 위치 인덱싱: 전달한 위치(인덱스) 값 한 개 추출 \n",
    "\n",
    "# 1~9까지 1차원 ndarray 생성\n",
    "ndarray1 = np.arange(start=1, stop=10)\n",
    "print(ndarray1)\n",
    "\n",
    "print(\"=\" * 30)\n",
    "\n",
    "# 2차원 3행으로 변경\n",
    "ndarray2 = ndarray1.reshape((3, -1))\n",
    "print(ndarray2)\n",
    "\n",
    "print(\"=\" * 30)\n",
    "\n",
    "print(ndarray2[1, 0])\n",
    "print(ndarray2[1, 1])\n",
    "print(ndarray2[2, 2])\n",
    "print(ndarray2[0])\n",
    "print(ndarray2[1])"
   ]
  },
  {
   "cell_type": "code",
   "execution_count": 88,
   "id": "6fca3e25-a972-4f66-a4d8-d8a1011d661b",
   "metadata": {},
   "outputs": [
    {
     "name": "stdout",
     "output_type": "stream",
     "text": [
      "[2 4 6 8]\n",
      "[2 4 6]\n",
      "[2 4 6 8]\n",
      "[2 4 6] 8\n"
     ]
    }
   ],
   "source": [
    "# 1차원 슬라이싱: 시작 위치와 종료 위치에 해당하는 ndarray 추출\n",
    "\n",
    "ndarray1 = np.arange(start=2, stop=10, step=2)\n",
    "print(ndarray1)\n",
    "\n",
    "print(ndarray1[:3])\n",
    "print(ndarray1[:])\n",
    "print(ndarray1[:-1], ndarray1[-1])"
   ]
  },
  {
   "cell_type": "code",
   "execution_count": 96,
   "id": "b0f2d0b2-44ef-41c9-bb49-a4de6a73f03a",
   "metadata": {
    "scrolled": true
   },
   "outputs": [
    {
     "name": "stdout",
     "output_type": "stream",
     "text": [
      "[ 1  2  3  4  5  6  7  8  9 10 11 12 13 14 15 16 17 18 19 20 21 22 23 24\n",
      " 25 26 27]\n",
      "==============================\n",
      "[[ 1  2  3]\n",
      " [ 4  5  6]\n",
      " [ 7  8  9]\n",
      " [10 11 12]\n",
      " [13 14 15]\n",
      " [16 17 18]\n",
      " [19 20 21]\n",
      " [22 23 24]\n",
      " [25 26 27]]\n",
      "==============================\n",
      "[[1 2]\n",
      " [4 5]\n",
      " [7 8]]\n",
      "==============================\n",
      "[[13 14 15]\n",
      " [16 17 18]\n",
      " [19 20 21]\n",
      " [22 23 24]\n",
      " [25 26 27]]\n",
      "==============================\n",
      "[[25 26 27]\n",
      " [22 23 24]\n",
      " [19 20 21]\n",
      " [16 17 18]\n",
      " [13 14 15]\n",
      " [10 11 12]\n",
      " [ 7  8  9]\n",
      " [ 4  5  6]\n",
      " [ 1  2  3]]\n",
      "==============================\n",
      "[[27 26 25]\n",
      " [24 23 22]\n",
      " [21 20 19]\n",
      " [18 17 16]\n",
      " [15 14 13]\n",
      " [12 11 10]\n",
      " [ 9  8  7]\n",
      " [ 6  5  4]\n",
      " [ 3  2  1]]\n"
     ]
    }
   ],
   "source": [
    "# 2차원 슬라이싱: 시작 위치와 종료 위치에 해당하는 ndarray 추출\n",
    "\n",
    "ndarray1 = np.arange(start=1, stop=28)\n",
    "print(ndarray1)\n",
    "\n",
    "print(\"=\" * 30)\n",
    "\n",
    "ndarray2 = ndarray1.reshape((-1, 3))\n",
    "print(ndarray2)\n",
    "\n",
    "print(\"=\" * 30)\n",
    "\n",
    "print(ndarray2[:3, :2])\n",
    "\n",
    "print(\"=\" * 30)\n",
    "\n",
    "print(ndarray2[4:9])\n",
    "\n",
    "print(\"=\" * 30)\n",
    "\n",
    "print(ndarray2[::-1])\n",
    "\n",
    "print(\"=\" * 30)\n",
    "\n",
    "print(ndarray2[::-1, ::-1])"
   ]
  },
  {
   "cell_type": "code",
   "execution_count": 103,
   "id": "cebe5e66-c1c7-4247-a593-c711654aa4f9",
   "metadata": {},
   "outputs": [
    {
     "name": "stdout",
     "output_type": "stream",
     "text": [
      "[[ 1  2  3  4  5]\n",
      " [ 6  7  8  9 10]\n",
      " [11 12 13 14 15]\n",
      " [16 17 18 19 20]]\n",
      "==============================\n",
      "[[ 3  4  5]\n",
      " [ 8  9 10]\n",
      " [18 19 20]]\n"
     ]
    }
   ],
   "source": [
    "# 팬시 인덱\n",
    "싱: list를 전달해서 한 번에 여러 요소를 추출한다.\n",
    "ndarray1 = np.arange(start=1, stop=21)\n",
    "ndarray2 = ndarray1.reshape((4, -1))\n",
    "print(ndarray2)\n",
    "\n",
    "print(\"=\" * 30)\n",
    "\n",
    "print(ndarray2[[0, 1, 3], 2:5])"
   ]
  },
  {
   "cell_type": "code",
   "execution_count": 109,
   "id": "f2012aaf-c2a2-4d54-9844-31f56afe3c93",
   "metadata": {},
   "outputs": [
    {
     "name": "stdout",
     "output_type": "stream",
     "text": [
      "[ 10  25  40  55  70  85 100]\n"
     ]
    }
   ],
   "source": [
    "# 불린 인덱싱:True인 위치의 ndarray 추출\n",
    "\n",
    "ndarray1 = np.arange(start=1, stop=101, step=3)\n",
    "print(ndarray1[ndarray1 % 5 ==0])"
   ]
  },
  {
   "cell_type": "markdown",
   "id": "6e6ad0e2-f15a-4f03-833a-d15c2e60b673",
   "metadata": {},
   "source": [
    "#### 정렬 Sorting\n",
    "- 모두 오름차순 정렬이며, 내림차순은 오름차순 정렬 후 [::-1]을 붙여 사용한다."
   ]
  },
  {
   "cell_type": "code",
   "execution_count": 113,
   "id": "69e22c6c-5cae-4b23-8d71-d0d75c98a071",
   "metadata": {},
   "outputs": [
    {
     "name": "stdout",
     "output_type": "stream",
     "text": [
      "원본 배열: [0 4 2 5]\n",
      "오름차순으로 정렬된 배열: [0 2 4 5]\n",
      "내림차순으로 정렬된 배열: [5 4 2 0]\n"
     ]
    }
   ],
   "source": [
    "# np.sort(ndarray)\n",
    "\n",
    "original_ndarray = np.array([0, 4, 2, 5])\n",
    "soreted_ndarray = np.sort(original_ndarray)\n",
    "\n",
    "print(f\"원본 배열: {original_ndarray}\")\n",
    "print(f\"오름차순으로 정렬된 배열: {soreted_ndarray}\")\n",
    "print(f\"내림차순으로 정렬된 배열: {soreted_ndarray[::-1]}\")"
   ]
  },
  {
   "cell_type": "code",
   "execution_count": 118,
   "id": "ec720abc-0283-457a-a1fa-fd2a920bc8b6",
   "metadata": {},
   "outputs": [
    {
     "name": "stdout",
     "output_type": "stream",
     "text": [
      "원본\n",
      "[[20 18 16 14 12]\n",
      " [10  8  6  4  2]]\n",
      "axis=0 정렬\n",
      "[[10  8  6  4  2]\n",
      " [20 18 16 14 12]]\n",
      "axis=1 정렬\n",
      "[[10  8  6  4  2]\n",
      " [20 18 16 14 12]]\n"
     ]
    }
   ],
   "source": [
    "# np.sort(ndarry, axis=n)\n",
    "\n",
    "ndarray1 = np.array([i for i in range(20, 0, -2)])\n",
    "ndarray2 = ndarray1.reshape((2, -1))\n",
    "print(f\"원본\\n{ndarray2}\")\n",
    "\n",
    "sorted_ndarray_axis0 = np.sort(ndarray2, axis=0)\n",
    "print(f\"axis=0 정렬\\n{sorted_ndarray_axis0}\")\n",
    "\n",
    "sorted_ndarray_axis1 = np.sort(ndarray2, axis=1)\n",
    "print(f\"axis=1 정렬\\n{sorted_ndarray_axis0}\")"
   ]
  },
  {
   "cell_type": "code",
   "execution_count": 123,
   "id": "f077ab4e-c056-48fd-8b3c-c72373dcad6d",
   "metadata": {},
   "outputs": [
    {
     "name": "stdout",
     "output_type": "stream",
     "text": [
      "정렬 후 원본 인덱스: [0 2 1 3]\n",
      "오름차순으로 정렬된 ndarray: [0 2 3 6]\n"
     ]
    }
   ],
   "source": [
    "# np.argsort(ndarray)\n",
    "\n",
    "original_ndarray = np.array([0, 3, 2, 6])\n",
    "sorted_indices = np.argsort(original_ndarray)\n",
    "print(f\"정렬 후 원본 인덱스: {sorted_indices}\")\n",
    "\n",
    "sorted_ndarray = original_ndarray[sorted_indices]\n",
    "print(f\"오름차순으로 정렬된 ndarray: {sorted_ndarray}\")"
   ]
  },
  {
   "cell_type": "code",
   "execution_count": 128,
   "id": "f4b1cc93-5e63-4088-b659-f3a0003e1a58",
   "metadata": {},
   "outputs": [
    {
     "name": "stdout",
     "output_type": "stream",
     "text": [
      "[0 1 3 2 4]\n",
      "['Lamborghini' 'Mclaren' 'Bentley' 'Benz' 'The New Morning']\n"
     ]
    }
   ],
   "source": [
    "# 제로백이 빠른 순으로 자동차 이름 정렬하기\n",
    "\n",
    "cars = np.array(['Lamborghini', 'Mclaren', 'Benz', 'Bentley', 'The New Morning'])\n",
    "zero100 = np.array([2.8, 2.9, 5.2, 3.7, 13.5])\n",
    "\n",
    "sorted_zero100 = np.argsort(zero100)\n",
    "print(sorted_zero100)\n",
    "\n",
    "sorted_cars = cars[sorted_zero100]\n",
    "print(sorted_cars)"
   ]
  },
  {
   "cell_type": "markdown",
   "id": "a774f056-191a-48a1-9dac-2f17da9c2de2",
   "metadata": {},
   "source": [
    "### 벡터\n",
    "- 데이터 과학에서 벡터란 숫자 자료를 나열한 것을 의미한다.\n",
    "- 벡터는 공간에서 한 점을 나타낸다.\n",
    "- feature 1개당 1차원이고, feature가 3개면 3차원이다.\n",
    "- 이 때, 1차원 좌표평면에서는 열벡터를 표현할 수 있으며, 2차원 좌표평면에서는 2열 데이터를 표한할 수 있게 된다."
   ]
  },
  {
   "cell_type": "markdown",
   "id": "5c6f1684-86b7-4701-9193-1fd3d7e9f627",
   "metadata": {},
   "source": [
    "#### 내적 (Dot product)\n",
    "- 두 벡터의 성분들의 곱의 합\n",
    "\n",
    "<img src=\"https://github.com/qnsekddl1/study-ai/assets/156397913/6dcca3dd-d2e7-40a7-8d28-168b5cb73031\" width=\"500px\" style=\"margin-left:0;\">"
   ]
  },
  {
   "cell_type": "markdown",
   "id": "31701deb-933c-4b6e-9631-78882172b472",
   "metadata": {},
   "source": [
    "#### 선형대수 (Linear Algebra)\n",
    "- 선형 방정식을 풀기 위해 배우는 학문이다.\n",
    "- 4x = 16일 경우, 좌항의 4를 우항으로 넘겨서 x라는 것을 구할 수 있고, 방정식 1개만으로 해를 구할 수 있다.\n",
    "- y = 2x + 5일 경우, 미지수가 2개이기 때문에 방정식이 2개 필요하다.\n",
    "- 이러한 연립방정식을 표한할 때 쉽게 표현하기 위해서 선형대수를 배운다."
   ]
  },
  {
   "cell_type": "code",
   "execution_count": 4,
   "id": "ebf71959-fbee-4d86-a8ad-1407f4e482f7",
   "metadata": {},
   "outputs": [
    {
     "name": "stdout",
     "output_type": "stream",
     "text": [
      "[[1 2]\n",
      " [3 4]]\n",
      "[[5]\n",
      " [6]]\n",
      "[[17]\n",
      " [39]]\n"
     ]
    }
   ],
   "source": [
    "import numpy as np\n",
    "\n",
    "A = np.array([1, 2, 3, 4]).reshape((2, 2))\n",
    "w = np.array([5, 6]).reshape((2, 1))\n",
    "\n",
    "print(A, w, sep=\"\\n\")\n",
    "print(np.dot(A, w))"
   ]
  },
  {
   "cell_type": "code",
   "execution_count": 6,
   "id": "7eb8f82a-076a-484e-93c0-2e6179519115",
   "metadata": {},
   "outputs": [
    {
     "name": "stdout",
     "output_type": "stream",
     "text": [
      "[[8.]\n",
      " [2.]]\n"
     ]
    }
   ],
   "source": [
    "# x + y = 10\n",
    "# 2x - 3y = 10\n",
    "\n",
    "# Aw = k\n",
    "\n",
    "A = np.array([[1, 1], [2, -3]])\n",
    "k = np.array([[10, 10]]).T\n",
    "w = np.dot(np.linalg.inv(A), k)\n",
    "print(w)"
   ]
  },
  {
   "cell_type": "code",
   "execution_count": 7,
   "id": "7949ce3b-b185-4584-a760-648c61571271",
   "metadata": {},
   "outputs": [
    {
     "name": "stdout",
     "output_type": "stream",
     "text": [
      "[[ 8.]\n",
      " [-2.]\n",
      " [-1.]]\n"
     ]
    }
   ],
   "source": [
    "# x + 2y + 3z = 1\n",
    "# x + 2y + z = 3\n",
    "# x + 3z = 5\n",
    "\n",
    "A = np.array([[1, 2, 3], [1, 2, 1], [1, 0, 3]])\n",
    "k = np.array([[1, 3, 5]]).T\n",
    "w = np.dot(np.linalg.inv(A), k)\n",
    "print(w)"
   ]
  },
  {
   "cell_type": "markdown",
   "id": "21ab855b-b988-49c4-bf0e-81956d4aca3c",
   "metadata": {},
   "source": [
    "#### 과결정계 (Overdetermined system)\n",
    "- 미지수보다 많은 방정식이 있는 연립방정식으로서 보통 해가 존재하지 않는다.\n",
    "- 3차원 공간에 존재하는 2차원 평면에서 3차원 공간의 해를 구할 수 없기 때문에, 3차원을 2차원으로 축소해야 하고, 이 때 투영이 필요하다.\n",
    "- 투영 시, 원본 값에서 어느정도의 loss(손실)가 발생하지만 이를 감안하고 근사값을 구한다."
   ]
  }
 ],
 "metadata": {
  "kernelspec": {
   "display_name": "Python 3 (ipykernel)",
   "language": "python",
   "name": "python3"
  },
  "language_info": {
   "codemirror_mode": {
    "name": "ipython",
    "version": 3
   },
   "file_extension": ".py",
   "mimetype": "text/x-python",
   "name": "python",
   "nbconvert_exporter": "python",
   "pygments_lexer": "ipython3",
   "version": "3.11.8"
  }
 },
 "nbformat": 4,
 "nbformat_minor": 5
}
